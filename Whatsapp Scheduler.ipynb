{
 "cells": [
  {
   "cell_type": "code",
   "execution_count": 1,
   "id": "560c4829",
   "metadata": {},
   "outputs": [],
   "source": [
    "# pip install pywhatkit"
   ]
  },
  {
   "cell_type": "code",
   "execution_count": null,
   "id": "6804fc0d",
   "metadata": {},
   "outputs": [],
   "source": [
    "# pip install PyAutoGUI"
   ]
  },
  {
   "cell_type": "code",
   "execution_count": 2,
   "id": "d0c92b6d",
   "metadata": {},
   "outputs": [],
   "source": [
    "# conda install -c conda-forge voila"
   ]
  },
  {
   "cell_type": "code",
   "execution_count": 3,
   "id": "ab6039e2",
   "metadata": {
    "scrolled": true
   },
   "outputs": [],
   "source": [
    "# conda install -c conda-forge ipywidgets\n"
   ]
  },
  {
   "cell_type": "code",
   "execution_count": 4,
   "id": "b0c0fdc0",
   "metadata": {},
   "outputs": [],
   "source": [
    "# pip install keyboard\n"
   ]
  },
  {
   "cell_type": "code",
   "execution_count": 2,
   "id": "4a2cbbfe",
   "metadata": {},
   "outputs": [],
   "source": [
    "import time, pyautogui, pywhatkit, keyboard as k, ipywidgets as widgets\n"
   ]
  },
  {
   "cell_type": "code",
   "execution_count": 7,
   "id": "ba716fe3",
   "metadata": {},
   "outputs": [
    {
     "data": {
      "application/vnd.jupyter.widget-view+json": {
       "model_id": "2b57eeaa50e54892a93ed7f9c98dba57",
       "version_major": 2,
       "version_minor": 0
      },
      "text/plain": [
       "ToggleButtons(description='Which type of message are you trying to automate?', options=('Personal message', 'G…"
      ]
     },
     "metadata": {},
     "output_type": "display_data"
    }
   ],
   "source": [
    "pm = widgets.ToggleButtons(\n",
    "    options=['Personal message', 'Group message'],\n",
    "    description='Which type of message are you trying to automate?',\n",
    "    disabled=False,\n",
    "    button_style='', # 'success', 'info', 'warning', 'danger' or ''\n",
    "    tooltips=['Choose this for personal message', 'choose this for group message'],\n",
    "#     icons=['check'] * 3\n",
    ")\n",
    "pm\n"
   ]
  },
  {
   "cell_type": "code",
   "execution_count": 9,
   "id": "2fa25a3a",
   "metadata": {},
   "outputs": [],
   "source": [
    "    bor = pm.value\n",
    "    \n",
    "    if( bor == 'Personal message'):\n",
    "        number = widgets.IntText(\n",
    "            value=7,\n",
    "            description='Enter Your Number Here (Do not include the +92):',\n",
    "            disabled=False\n",
    "        )\n",
    "\n",
    "    elif(bor == 'Group message'):    \n",
    "        number = widgets.Text(\n",
    "            value='',\n",
    "            placeholder='Enter Group ID',\n",
    "            description='String:',\n",
    "            disabled=False\n",
    "        )       "
   ]
  },
  {
   "cell_type": "code",
   "execution_count": 10,
   "id": "8364428c",
   "metadata": {},
   "outputs": [],
   "source": [
    "message = widgets.Textarea(\n",
    "    value='Hello World',\n",
    "    placeholder='Type something',\n",
    "    description='Write Your Message Here:',\n",
    "    disabled=False\n",
    ")\n",
    "hours = widgets.BoundedIntText(\n",
    "    value=7,\n",
    "    min=0,\n",
    "    max=25,\n",
    "    step=1,\n",
    "    description='Which Hour Do You Want To Send It At (This is a 24hr Clock):',\n",
    "    disabled=False\n",
    ")\n",
    "mins = widgets.BoundedIntText(\n",
    "    value=7,\n",
    "    min=0,\n",
    "    max=59,\n",
    "    step=1,\n",
    "    description='Which Min Do You Want To Send It At:',\n",
    "    disabled=False\n",
    ")\n",
    "button = widgets.Button(\n",
    "    description='Send',\n",
    "    disabled=False,\n",
    "    button_style='', # 'success', 'info', 'warning', 'danger' or ''\n",
    "    tooltip='Click me',\n",
    "    icon='check' # (FontAwesome names without the `fa-` prefix)\n",
    ")\n",
    "woo_button = widgets.Button(\n",
    "    description='Send',\n",
    "    disabled=False,\n",
    "    button_style='', # 'success', 'info', 'warning', 'danger' or ''\n",
    "    tooltip='Click me',\n",
    "    icon='check' # (FontAwesome names without the `fa-` prefix)\n",
    ")\n",
    "    "
   ]
  },
  {
   "cell_type": "code",
   "execution_count": 13,
   "id": "e4fcaa80",
   "metadata": {},
   "outputs": [
    {
     "data": {
      "application/vnd.jupyter.widget-view+json": {
       "model_id": "4b8c19b92c0f45c0bee6fd564ceb2bb2",
       "version_major": 2,
       "version_minor": 0
      },
      "text/plain": [
       "Textarea(value='Hello World', description='Write Your Message Here:', placeholder='Type something')"
      ]
     },
     "metadata": {},
     "output_type": "display_data"
    }
   ],
   "source": [
    "message  "
   ]
  },
  {
   "cell_type": "code",
   "execution_count": 14,
   "id": "649d3fc5",
   "metadata": {},
   "outputs": [
    {
     "data": {
      "application/vnd.jupyter.widget-view+json": {
       "model_id": "150446175a9446fba875d01a34724d1c",
       "version_major": 2,
       "version_minor": 0
      },
      "text/plain": [
       "BoundedIntText(value=7, description='Which Hour Do You Want To Send It At:', max=25)"
      ]
     },
     "metadata": {},
     "output_type": "display_data"
    }
   ],
   "source": [
    "hours"
   ]
  },
  {
   "cell_type": "code",
   "execution_count": 15,
   "id": "03fb38df",
   "metadata": {
    "scrolled": true
   },
   "outputs": [
    {
     "data": {
      "application/vnd.jupyter.widget-view+json": {
       "model_id": "6716f47f29734c55abb372a820ee22bb",
       "version_major": 2,
       "version_minor": 0
      },
      "text/plain": [
       "BoundedIntText(value=7, description='Which Min Do You Want To Send It At:', max=59)"
      ]
     },
     "metadata": {},
     "output_type": "display_data"
    }
   ],
   "source": [
    "mins"
   ]
  },
  {
   "cell_type": "code",
   "execution_count": 16,
   "id": "55a23cfd",
   "metadata": {},
   "outputs": [
    {
     "data": {
      "application/vnd.jupyter.widget-view+json": {
       "model_id": "98249625620d43e78072ac0800545707",
       "version_major": 2,
       "version_minor": 0
      },
      "text/plain": [
       "IntText(value=7, description='Enter Your Number Here:')"
      ]
     },
     "metadata": {},
     "output_type": "display_data"
    }
   ],
   "source": [
    "number"
   ]
  },
  {
   "cell_type": "code",
   "execution_count": 17,
   "id": "fb0500a3",
   "metadata": {},
   "outputs": [],
   "source": [
    "def message_sender(b):\n",
    "    if(pm.value == 'Personal message'):\n",
    "        pywhatkit.sendwhatmsg(\"+92\" + str(number.value), message.value, hours.value,mins.value)\n",
    "        \n",
    "    else:\n",
    "        pywhatkit.sendwhatmsg_to_group(group_id, message.value, hours.value, mins.value)\n",
    "        \n",
    "    pyautogui.click(1050, 950)\n",
    "    time.sleep(2)\n",
    "    k.press_and_release('enter')\n",
    "\n",
    "\n",
    "button.on_click(message_sender)"
   ]
  },
  {
   "cell_type": "code",
   "execution_count": 18,
   "id": "8b2794e3",
   "metadata": {},
   "outputs": [
    {
     "data": {
      "application/vnd.jupyter.widget-view+json": {
       "model_id": "573960376a7f4032ba80adf1747b1888",
       "version_major": 2,
       "version_minor": 0
      },
      "text/plain": [
       "Button(description='Send', icon='check', style=ButtonStyle(), tooltip='Click me')"
      ]
     },
     "metadata": {},
     "output_type": "display_data"
    },
    {
     "name": "stdout",
     "output_type": "stream",
     "text": [
      "In 42 Seconds WhatsApp will open and after 15 Seconds Message will be Delivered!\n"
     ]
    }
   ],
   "source": [
    "button"
   ]
  }
 ],
 "metadata": {
  "kernelspec": {
   "display_name": "Python 3 (ipykernel)",
   "language": "python",
   "name": "python3"
  },
  "language_info": {
   "codemirror_mode": {
    "name": "ipython",
    "version": 3
   },
   "file_extension": ".py",
   "mimetype": "text/x-python",
   "name": "python",
   "nbconvert_exporter": "python",
   "pygments_lexer": "ipython3",
   "version": "3.9.7"
  }
 },
 "nbformat": 4,
 "nbformat_minor": 5
}
